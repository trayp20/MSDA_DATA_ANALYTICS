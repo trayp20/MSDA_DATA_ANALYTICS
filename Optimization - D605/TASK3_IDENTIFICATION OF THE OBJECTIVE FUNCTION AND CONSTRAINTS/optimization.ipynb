{
 "cells": [
  {
   "cell_type": "code",
   "execution_count": 123,
   "id": "8bed053a-1a47-43f3-a4b6-35f29042ac35",
   "metadata": {},
   "outputs": [
    {
     "name": "stdout",
     "output_type": "stream",
     "text": [
      "Requirement already satisfied: pulp in /Users/trayvoniouspendleton/anaconda3/lib/python3.12/site-packages (3.1.1)\n",
      "Note: you may need to restart the kernel to use updated packages.\n"
     ]
    }
   ],
   "source": [
    "pip install pulp"
   ]
  },
  {
   "cell_type": "markdown",
   "id": "59c7602c-e386-4b08-8a34-83456b6317ec",
   "metadata": {},
   "source": [
    "## Step 1 Initial Setup"
   ]
  },
  {
   "cell_type": "code",
   "execution_count": 125,
   "id": "75889046-14f1-4cee-af60-01dcbb42208d",
   "metadata": {},
   "outputs": [],
   "source": [
    "import pulp\n",
    "\n",
    "# Define the model\n",
    "model = pulp.LpProblem(\"Amazon_Air_Distribution\", pulp.LpMinimize)"
   ]
  },
  {
   "cell_type": "markdown",
   "id": "91bd6a08-7905-4dfe-8bb0-48fe28bc8f28",
   "metadata": {},
   "source": [
    "## Step 2 Define Sets for Hubs, Focus Cities, and Centers"
   ]
  },
  {
   "cell_type": "code",
   "execution_count": 127,
   "id": "0c0b5c77-f366-4d27-8f76-2ffe03f572c3",
   "metadata": {},
   "outputs": [],
   "source": [
    "hubs = ['CVG', 'AFW']\n",
    "focus = ['Leipzig', 'Hyderabad', 'SanBernardino']\n",
    "centers = [f'C{k+1}' for k in range(65)]"
   ]
  },
  {
   "cell_type": "markdown",
   "id": "d3d650ff-5f3a-49e2-81fc-de7860d14c52",
   "metadata": {},
   "source": [
    "## Step 3 Declare Decision Variables and Demand Data"
   ]
  },
  {
   "cell_type": "code",
   "execution_count": 129,
   "id": "771aacdc-7320-4b71-b52f-1806104aa638",
   "metadata": {},
   "outputs": [],
   "source": [
    "x = pulp.LpVariable.dicts(\"x\", [(i,j) for i in hubs for j in focus], lowBound=0, cat='Continuous')\n",
    "y = pulp.LpVariable.dicts(\"y\", [(i,k) for i in hubs for k in centers], lowBound=0, cat='Continuous')\n",
    "z = pulp.LpVariable.dicts(\"z\", [(j,k) for j in focus for k in centers], lowBound=0, cat='Continuous')\n",
    "\n",
    "center_demand = {\n",
    "    'C1': 6500, 'C2': 640, 'C3': 180, 'C4': 9100, 'C5': 570, 'C6': 19000, 'C7': 14800,\n",
    "    'C8': 90, 'C9': 185, 'C10': 800, 'C11': 1700, 'C12': 170, 'C13': 2800, 'C14': 3700,\n",
    "    'C15': 30, 'C16': 6700, 'C17': 190, 'C18': 175, 'C19': 38, 'C20': 2400,\n",
    "    'C21': 7200, 'C22': 100, 'C23': 1200, 'C24': 1100, 'C25': 1900, 'C26': 240,\n",
    "    'C27': 1500, 'C28': 540, 'C29': 3400, 'C30': 185, 'C31': 1600, 'C32': 3000,\n",
    "    'C33': 500, 'C34': 16, 'C35': 63, 'C36': 5100, 'C37': 172, 'C38': 200, 'C39': 173,\n",
    "    'C40': 300, 'C41': 290, 'C42': 550, 'C43': 1300, 'C44': 1700, 'C45': 975,\n",
    "    'C46': 1200, 'C47': 480, 'C48': 100, 'C49': 450, 'C50': 11200, 'C51': 900,\n",
    "    'C52': 290, 'C53': 150, 'C54': 1200, 'C55': 420, 'C56': 1000, 'C57': 1100,\n",
    "    'C58': 650, 'C59': 975, 'C60': 3300, 'C61': 3300, 'C62': 1100, 'C63': 600,\n",
    "    'C64': 2000, 'C65': 260\n",
    "}\n",
    "# Real-world cost data based on distribution chart\n",
    "\n",
    "cost_y = {\n",
    "    ('CVG', 'C1'): 1.6,\n",
    "    ('CVG', 'C2'): 1.5,\n",
    "    ('CVG', 'C3'): 1.5,\n",
    "    ('CVG', 'C8'): 1.5,\n",
    "    ('CVG', 'C9'): 1.5,\n",
    "    ('CVG', 'C10'): 1.5,\n",
    "    ('CVG', 'C11'): 1.5,\n",
    "    ('CVG', 'C12'): 1.4,\n",
    "    ('CVG', 'C13'): 1.5,\n",
    "    ('CVG', 'C14'): 1.6,\n",
    "    ('CVG', 'C15'): 1.4,\n",
    "    ('CVG', 'C16'): 1.6,\n",
    "    ('CVG', 'C17'): 0.5,\n",
    "    ('AFW', 'C17'): 0.5,\n",
    "    ('CVG', 'C18'): 1.3,\n",
    "    ('AFW', 'C18'): 1,\n",
    "    ('CVG', 'C19'): 1.4,\n",
    "    ('AFW', 'C19'): 1,\n",
    "    ('CVG', 'C20'): 0.5,\n",
    "    ('AFW', 'C20'): 0.5\n",
    "}\n",
    "\n",
    "cost_z = {\n",
    "    ('Leipzig', 'C1'): 0.5,\n",
    "    ('Hyderabad', 'C1'): 1.1,\n",
    "    ('Leipzig', 'C2'): 0.5,\n",
    "    ('Hyderabad', 'C2'): 1,\n",
    "    ('Leipzig', 'C3'): 0.5,\n",
    "    ('Hyderabad', 'C3'): 1,\n",
    "    ('Leipzig', 'C4'): 1.5,\n",
    "    ('Hyderabad', 'C4'): 0.5,\n",
    "    ('Leipzig', 'C5'): 1.5,\n",
    "    ('Hyderabad', 'C5'): 0.5,\n",
    "    ('Leipzig', 'C6'): 1.5,\n",
    "    ('Hyderabad', 'C6'): 0.5,\n",
    "    ('Leipzig', 'C7'): 1.5,\n",
    "    ('Hyderabad', 'C7'): 0.5,\n",
    "    ('Leipzig', 'C8'): 0.5,\n",
    "    ('Hyderabad', 'C8'): 1,\n",
    "    ('Leipzig', 'C9'): 0.5,\n",
    "    ('Hyderabad', 'C9'): 1,\n",
    "    ('Leipzig', 'C10'): 0.5,\n",
    "    ('Hyderabad', 'C10'): 1,\n",
    "    ('Leipzig', 'C11'): 0.5,\n",
    "    ('Hyderabad', 'C11'): 1.1,\n",
    "    ('Leipzig', 'C12'): 0.5,\n",
    "    ('Hyderabad', 'C12'): 1,\n",
    "    ('Leipzig', 'C13'): 0.5,\n",
    "    ('Hyderabad', 'C13'): 1,\n",
    "    ('Leipzig', 'C14'): 0.5,\n",
    "    ('Hyderabad', 'C14'): 1.1,\n",
    "    ('Leipzig', 'C15'): 0.5,\n",
    "    ('Leipzig', 'C16'): 0.75,\n",
    "    ('Hyderabad', 'C16'): 1.1,\n",
    "    ('SanBernardino', 'C17'): 0.5,\n",
    "    ('SanBernardino', 'C18'): 0.7,\n",
    "    ('SanBernardino', 'C19'): 0.7,\n",
    "    ('SanBernardino', 'C20'): 0.5\n",
    "}"
   ]
  },
  {
   "cell_type": "markdown",
   "id": "15426bba-e2b5-48f4-841c-6c8b77ea50f9",
   "metadata": {},
   "source": [
    "## Step 4 Input Cost Data"
   ]
  },
  {
   "cell_type": "code",
   "execution_count": 131,
   "id": "d8a24fc5-016a-42d0-ad29-1ba34c0ec178",
   "metadata": {},
   "outputs": [],
   "source": [
    "# Cost to send from hubs to focus cities\n",
    "cost_x = {\n",
    "    ('CVG', 'Leipzig'): 1.5,\n",
    "    ('CVG', 'SanBernardino'): 0.5,\n",
    "    ('AFW', 'SanBernardino'): 0.5\n",
    "}\n",
    "\n",
    "# Cost to send from hubs to centers\n",
    "cost_y = {}\n",
    "for i, center in enumerate(centers):\n",
    "    cost_y[('CVG', center)] = 1.5 if i < 40 else None\n",
    "    cost_y[('AFW', center)] = 0.5 if i < 30 else None\n",
    "\n",
    "# Cost to send from focus cities to centers\n",
    "cost_z = {}\n",
    "for i, center in enumerate(centers):\n",
    "    cost_z[('Leipzig', center)] = 0.5 if i < 40 else None\n",
    "    cost_z[('Hyderabad', center)] = 1.1 if 3 <= i < 10 else None  # Indian cities\n",
    "    cost_z[('SanBernardino', center)] = 0.5 if 15 <= i < 40 else None  # USA only"
   ]
  },
  {
   "cell_type": "markdown",
   "id": "e65cf991-54c5-4dd9-b8ae-032d24b3cccc",
   "metadata": {},
   "source": [
    "## Step 5 Define Objective Function"
   ]
  },
  {
   "cell_type": "code",
   "execution_count": 133,
   "id": "b6bb646d-4c86-4667-a7a7-1d114dcfcd44",
   "metadata": {},
   "outputs": [],
   "source": [
    "model += pulp.lpSum([\n",
    "    cost_x[i, j] * x[i, j] for (i, j) in cost_x\n",
    "]) + pulp.lpSum([\n",
    "    cost_y[i, k] * y[i, k] for (i, k) in cost_y if cost_y[i, k] is not None\n",
    "]) + pulp.lpSum([\n",
    "    cost_z[j, k] * z[j, k] for (j, k) in cost_z if cost_z[j, k] is not None\n",
    "]), \"Total_Shipping_Cost\""
   ]
  },
  {
   "cell_type": "markdown",
   "id": "ec5cb344-768a-4053-883f-1782022350de",
   "metadata": {},
   "source": [
    "## Step 6 Add Constraints"
   ]
  },
  {
   "cell_type": "code",
   "execution_count": 135,
   "id": "f542e3b7-af94-45c6-93e1-1e83b1f8fe6f",
   "metadata": {},
   "outputs": [],
   "source": [
    "model += pulp.lpSum(\n",
    "    [x['CVG', j] for j in focus if ('CVG', j) in x] +\n",
    "    [y['CVG', k] for k in centers if ('CVG', k) in y]\n",
    ") <= 95650, f\"CVG_Capacity_{len(model.constraints)}\"\n",
    "\n",
    "model += pulp.lpSum(\n",
    "    [x['AFW', j] for j in focus if ('AFW', j) in x] +\n",
    "    [y['AFW', k] for k in centers if ('AFW', k) in y]\n",
    ") <= 44350, f\"AFW_Capacity_{len(model.constraints)}\"\n",
    "\n",
    "#Center Demand \n",
    "for k in centers:\n",
    "    if k in center_demand:\n",
    "        model += pulp.lpSum(\n",
    "            [y[i, k] for i in hubs if (i, k) in y] +\n",
    "            [z[j, k] for j in focus if (j, k) in z]\n",
    "        ) == center_demand[k], f\"Demand_{k}\"\n",
    "# Focus City Balance: Input from hubs = Output to centers\n",
    "for j in focus:\n",
    "    model += pulp.lpSum([x[i, j] for i in hubs if (i, j) in x]) == \\\n",
    "             pulp.lpSum([z[j, k] for k in centers if (j, k) in z]), f\"FocusBalance_{j}\""
   ]
  },
  {
   "cell_type": "markdown",
   "id": "f02a3a9a-9ae5-4a58-9bbb-89ed77641be5",
   "metadata": {},
   "source": [
    "## Step 7 Solve and Output Results"
   ]
  },
  {
   "cell_type": "code",
   "execution_count": 137,
   "id": "b6d0ce74-c89b-4d8b-9b5f-9b315cca037b",
   "metadata": {
    "scrolled": true
   },
   "outputs": [
    {
     "name": "stdout",
     "output_type": "stream",
     "text": [
      "Welcome to the CBC MILP Solver \n",
      "Version: 2.10.3 \n",
      "Build Date: Dec 15 2019 \n",
      "\n",
      "command line - /Users/trayvoniouspendleton/anaconda3/lib/python3.12/site-packages/pulp/apis/../solverdir/cbc/osx/i64/cbc /var/folders/ll/cvqls06d7156l6ks5dqkj5940000gn/T/f98b999ce3b046cbb277a429ef176fa5-pulp.mps -timeMode elapsed -branch -printingOptions all -solution /var/folders/ll/cvqls06d7156l6ks5dqkj5940000gn/T/f98b999ce3b046cbb277a429ef176fa5-pulp.sol (default strategy 1)\n",
      "At line 2 NAME          MODEL\n",
      "At line 3 ROWS\n",
      "At line 75 COLUMNS\n",
      "At line 883 RHS\n",
      "At line 954 BOUNDS\n",
      "At line 955 ENDATA\n",
      "Problem MODEL has 70 rows, 331 columns and 662 elements\n",
      "Coin0008I MODEL read with 0 errors\n",
      "Option for timeMode changed from cpu to elapsed\n",
      "Presolve 70 (0) rows, 331 (0) columns and 662 (0) elements\n",
      "Perturbing problem by 0.001% of 1.5 - largest nonzero change 1.2674376e-05 ( 0.0016324%) - largest zero change 5.7403951e-06\n",
      "0  Obj 0 Primal inf 133747 (65)\n",
      "73  Obj 22273.421\n",
      "Optimal - objective value 22272.5\n",
      "Optimal objective 22272.5 - 73 iterations time 0.002\n",
      "Option for printingOptions changed from normal to all\n",
      "Total time (CPU seconds):       0.00   (Wallclock seconds):       0.00\n",
      "\n",
      "Status: Optimal\n",
      "Total Cost: 22272.5\n",
      "x_('CVG',_'Hyderabad') = 42588.0\n",
      "x_('CVG',_'SanBernardino') = 11469.0\n",
      "y_('AFW',_'C10') = 800.0\n",
      "y_('AFW',_'C31') = 1600.0\n",
      "y_('AFW',_'C32') = 3000.0\n",
      "y_('AFW',_'C33') = 500.0\n",
      "y_('AFW',_'C34') = 16.0\n",
      "y_('AFW',_'C35') = 63.0\n",
      "y_('AFW',_'C36') = 5100.0\n",
      "y_('AFW',_'C37') = 172.0\n",
      "y_('AFW',_'C38') = 200.0\n",
      "y_('AFW',_'C39') = 173.0\n",
      "y_('AFW',_'C4') = 9100.0\n",
      "y_('AFW',_'C40') = 300.0\n",
      "y_('AFW',_'C5') = 570.0\n",
      "y_('AFW',_'C53') = 150.0\n",
      "y_('AFW',_'C6') = 7531.0\n",
      "y_('AFW',_'C7') = 14800.0\n",
      "y_('AFW',_'C8') = 90.0\n",
      "y_('AFW',_'C9') = 185.0\n",
      "y_('CVG',_'C41') = 290.0\n",
      "y_('CVG',_'C42') = 550.0\n",
      "y_('CVG',_'C43') = 1300.0\n",
      "y_('CVG',_'C44') = 1700.0\n",
      "y_('CVG',_'C45') = 975.0\n",
      "y_('CVG',_'C46') = 1200.0\n",
      "y_('CVG',_'C47') = 480.0\n",
      "y_('CVG',_'C48') = 100.0\n",
      "y_('CVG',_'C49') = 450.0\n",
      "y_('CVG',_'C50') = 11200.0\n",
      "y_('CVG',_'C51') = 900.0\n",
      "y_('CVG',_'C52') = 290.0\n",
      "y_('CVG',_'C54') = 1200.0\n",
      "y_('CVG',_'C55') = 420.0\n",
      "y_('CVG',_'C56') = 1000.0\n",
      "y_('CVG',_'C57') = 1100.0\n",
      "y_('CVG',_'C58') = 650.0\n",
      "y_('CVG',_'C59') = 975.0\n",
      "y_('CVG',_'C60') = 3300.0\n",
      "y_('CVG',_'C61') = 3300.0\n",
      "y_('CVG',_'C62') = 1100.0\n",
      "y_('CVG',_'C63') = 600.0\n",
      "y_('CVG',_'C64') = 2000.0\n",
      "y_('CVG',_'C65') = 260.0\n",
      "z_('Hyderabad',_'C1') = 6500.0\n",
      "z_('Hyderabad',_'C11') = 1700.0\n",
      "z_('Hyderabad',_'C12') = 170.0\n",
      "z_('Hyderabad',_'C13') = 2800.0\n",
      "z_('Hyderabad',_'C14') = 3700.0\n",
      "z_('Hyderabad',_'C15') = 30.0\n",
      "z_('Hyderabad',_'C16') = 6700.0\n",
      "z_('Hyderabad',_'C17') = 190.0\n",
      "z_('Hyderabad',_'C18') = 175.0\n",
      "z_('Hyderabad',_'C19') = 38.0\n",
      "z_('Hyderabad',_'C2') = 640.0\n",
      "z_('Hyderabad',_'C20') = 2400.0\n",
      "z_('Hyderabad',_'C21') = 7200.0\n",
      "z_('Hyderabad',_'C22') = 100.0\n",
      "z_('Hyderabad',_'C23') = 1200.0\n",
      "z_('Hyderabad',_'C24') = 1100.0\n",
      "z_('Hyderabad',_'C25') = 1900.0\n",
      "z_('Hyderabad',_'C26') = 240.0\n",
      "z_('Hyderabad',_'C27') = 1500.0\n",
      "z_('Hyderabad',_'C28') = 540.0\n",
      "z_('Hyderabad',_'C29') = 3400.0\n",
      "z_('Hyderabad',_'C3') = 180.0\n",
      "z_('Hyderabad',_'C30') = 185.0\n",
      "z_('SanBernardino',_'C6') = 11469.0\n"
     ]
    }
   ],
   "source": [
    "model.solve()\n",
    "\n",
    "print(\"Status:\", pulp.LpStatus[model.status])\n",
    "print(\"Total Cost:\", pulp.value(model.objective))\n",
    "\n",
    "# Show only variables that were used\n",
    "for var in model.variables():\n",
    "    if var.varValue and var.varValue > 0:\n",
    "        print(f\"{var.name} = {var.varValue}\")"
   ]
  },
  {
   "cell_type": "code",
   "execution_count": null,
   "id": "9c6e3cb8-a76d-40c3-8617-fb0f8bbbfff1",
   "metadata": {},
   "outputs": [],
   "source": []
  }
 ],
 "metadata": {
  "kernelspec": {
   "display_name": "Python [conda env:base] *",
   "language": "python",
   "name": "conda-base-py"
  },
  "language_info": {
   "codemirror_mode": {
    "name": "ipython",
    "version": 3
   },
   "file_extension": ".py",
   "mimetype": "text/x-python",
   "name": "python",
   "nbconvert_exporter": "python",
   "pygments_lexer": "ipython3",
   "version": "3.12.7"
  }
 },
 "nbformat": 4,
 "nbformat_minor": 5
}
